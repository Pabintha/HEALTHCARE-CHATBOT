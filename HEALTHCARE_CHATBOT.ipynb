{
  "nbformat": 4,
  "nbformat_minor": 0,
  "metadata": {
    "colab": {
      "provenance": [],
      "authorship_tag": "ABX9TyMLOaI3GKw6fgM4fz8JdO/O"
    },
    "kernelspec": {
      "name": "python3",
      "display_name": "Python 3"
    },
    "language_info": {
      "name": "python"
    }
  },
  "cells": [
    {
      "cell_type": "code",
      "execution_count": null,
      "metadata": {
        "colab": {
          "base_uri": "https://localhost:8080/"
        },
        "id": "XHNIAU2OgiiN",
        "outputId": "c94a28af-2d8c-48b0-fdd4-74600caf6b84"
      },
      "outputs": [
        {
          "output_type": "stream",
          "name": "stdout",
          "text": [
            "Requirement already satisfied: pyttsx3 in /usr/local/lib/python3.10/dist-packages (2.90)\n"
          ]
        }
      ],
      "source": [
        "pip install pyttsx3\n"
      ]
    },
    {
      "cell_type": "code",
      "source": [
        "import re\n",
        "import pandas as pd\n",
        "import pyttsx3\n",
        "from sklearn import preprocessing\n",
        "from sklearn.tree import DecisionTreeClassifier,_tree\n",
        "import numpy as np\n",
        "from sklearn.model_selection import train_test_split\n",
        "from sklearn.model_selection import cross_val_score\n",
        "from sklearn.svm import SVC\n",
        "import csv\n",
        "import warnings\n",
        "warnings.filterwarnings(\"ignore\", category=DeprecationWarning)"
      ],
      "metadata": {
        "id": "oepTpy-ojkGy"
      },
      "execution_count": null,
      "outputs": []
    },
    {
      "cell_type": "code",
      "source": [
        "training = pd.read_csv('/content/Training.csv')\n",
        "testing= pd.read_csv('/content/Testing.csv')\n",
        "cols= training.columns\n",
        "cols= cols[:-1]\n",
        "x = training[cols]\n",
        "y = training['prognosis']\n",
        "y1= y"
      ],
      "metadata": {
        "id": "Iwc5d4ZLhVAU"
      },
      "execution_count": null,
      "outputs": []
    },
    {
      "cell_type": "code",
      "source": [
        "reduced_data = training.groupby(training['prognosis']).max()"
      ],
      "metadata": {
        "id": "i1Xb3irjkCnO"
      },
      "execution_count": null,
      "outputs": []
    },
    {
      "cell_type": "code",
      "source": [
        "#mapping strings to numbers\n",
        "le = preprocessing.LabelEncoder()\n",
        "le.fit(y)\n",
        "y = le.transform(y)"
      ],
      "metadata": {
        "id": "uQm9aXFChG50"
      },
      "execution_count": null,
      "outputs": []
    },
    {
      "cell_type": "code",
      "source": [
        "x_train, x_test, y_train, y_test = train_test_split(x, y, test_size=0.33, random_state=42)\n",
        "testx    = testing[cols]\n",
        "testy    = testing['prognosis']\n",
        "testy    = le.transform(testy)"
      ],
      "metadata": {
        "id": "5yG9Ak0ShJIm"
      },
      "execution_count": null,
      "outputs": []
    },
    {
      "cell_type": "code",
      "source": [
        "clf1  = DecisionTreeClassifier()\n",
        "clf = clf1.fit(x_train,y_train)\n",
        "# print(clf.score(x_train,y_train))\n",
        "# print (\"cross result========\")\n",
        "scores = cross_val_score(clf, x_test, y_test, cv=3)\n",
        "# print (scores)\n",
        "print (scores.mean())"
      ],
      "metadata": {
        "colab": {
          "base_uri": "https://localhost:8080/"
        },
        "id": "ZPneh2RnkM_K",
        "outputId": "5f4866d7-fcc6-43e5-a545-aa5af821f9bb"
      },
      "execution_count": null,
      "outputs": [
        {
          "output_type": "stream",
          "name": "stdout",
          "text": [
            "0.9766036200103221\n"
          ]
        }
      ]
    },
    {
      "cell_type": "code",
      "source": [
        "model=SVC()\n",
        "model.fit(x_train,y_train)\n",
        "print(\"for svm: \")\n",
        "print(model.score(x_test,y_test))\n"
      ],
      "metadata": {
        "colab": {
          "base_uri": "https://localhost:8080/"
        },
        "id": "YIFaWZ7ukN7X",
        "outputId": "f2db6da0-a2a3-441a-b3a0-96642273e577"
      },
      "execution_count": null,
      "outputs": [
        {
          "output_type": "stream",
          "name": "stdout",
          "text": [
            "for svm: \n",
            "1.0\n"
          ]
        }
      ]
    },
    {
      "cell_type": "code",
      "source": [
        "importances = clf.feature_importances_\n",
        "indices = np.argsort(importances)[::-1]\n",
        "features = cols"
      ],
      "metadata": {
        "id": "9qzHUWiLkRqo"
      },
      "execution_count": null,
      "outputs": []
    },
    {
      "cell_type": "code",
      "source": [
        "def readn(nstr):\n",
        "    engine = pyttsx3.init()\n",
        "\n",
        "    engine.setProperty('voice', \"english+f5\")\n",
        "    engine.setProperty('rate', 130)\n",
        "\n",
        "    engine.say(nstr)\n",
        "    engine.runAndWait()\n",
        "    engine.stop()"
      ],
      "metadata": {
        "id": "_1Gjp_22kUQU"
      },
      "execution_count": null,
      "outputs": []
    },
    {
      "cell_type": "code",
      "source": [
        "severityDictionary=dict()\n",
        "description_list = dict()\n",
        "precautionDictionary=dict()\n",
        "\n",
        "symptoms_dict = {}"
      ],
      "metadata": {
        "id": "tdUzs2eakWzt"
      },
      "execution_count": null,
      "outputs": []
    },
    {
      "cell_type": "code",
      "source": [
        "for index, symptom in enumerate(x):\n",
        "       symptoms_dict[symptom] = index\n",
        "def calc_condition(exp,days):\n",
        "    sum=0\n",
        "    for item in exp:\n",
        "         sum=sum+severityDictionary[item]\n",
        "    if((sum*days)/(len(exp)+1)>13):\n",
        "        print(\"You should take the consultation from doctor. \")\n",
        "    else:\n",
        "        print(\"It might not be that bad but you should take precautions.\")\n"
      ],
      "metadata": {
        "id": "DgRqfid9kZJJ"
      },
      "execution_count": null,
      "outputs": []
    },
    {
      "cell_type": "code",
      "source": [
        "def getDescription():\n",
        "    global description_list\n",
        "    with open('/content/symptom_Description.csv') as csv_file:\n",
        "        csv_reader = csv.reader(csv_file, delimiter=',')\n",
        "        line_count = 0\n",
        "        for row in csv_reader:\n",
        "            _description={row[0]:row[1]}\n",
        "            description_list.update(_description)\n"
      ],
      "metadata": {
        "id": "CkWehEslkbei"
      },
      "execution_count": 20,
      "outputs": []
    },
    {
      "cell_type": "code",
      "source": [
        "def getSeverityDict():\n",
        "    global severityDictionary\n",
        "    with open('/content/Symptom_severity.csv') as csv_file:\n",
        "\n",
        "        csv_reader = csv.reader(csv_file, delimiter=',')\n",
        "        line_count = 0\n",
        "        try:\n",
        "            for row in csv_reader:\n",
        "                _diction={row[0]:int(row[1])}\n",
        "                severityDictionary.update(_diction)\n",
        "        except:\n",
        "            pass"
      ],
      "metadata": {
        "id": "ljjG5o0ekdbV"
      },
      "execution_count": 21,
      "outputs": []
    },
    {
      "cell_type": "code",
      "source": [
        "def getprecautionDict():\n",
        "    global precautionDictionary\n",
        "    with open('/content/symptom_precaution.csv') as csv_file:\n",
        "\n",
        "        csv_reader = csv.reader(csv_file, delimiter=',')\n",
        "        line_count = 0\n",
        "        for row in csv_reader:\n",
        "            _prec={row[0]:[row[1],row[2],row[3],row[4]]}\n",
        "            precautionDictionary.update(_prec)"
      ],
      "metadata": {
        "id": "juWRA9_jkfj6"
      },
      "execution_count": 22,
      "outputs": []
    },
    {
      "cell_type": "code",
      "source": [
        "def getInfo():\n",
        "    print(\"-----------------------------------HealthCare ChatBot-----------------------------------\")\n",
        "    print(\"\\nYour Name? \\t\\t\\t\\t\",end=\"->\")\n",
        "    name=input(\"\")\n",
        "    print(\"Hello, \",name)\n"
      ],
      "metadata": {
        "id": "rWjgZhQ9kh7g"
      },
      "execution_count": 23,
      "outputs": []
    },
    {
      "cell_type": "code",
      "source": [
        "def check_pattern(dis_list,inp):\n",
        "    pred_list=[]\n",
        "    inp=inp.replace(' ','_')\n",
        "    patt = f\"{inp}\"\n",
        "    regexp = re.compile(patt)\n",
        "    pred_list=[item for item in dis_list if regexp.search(item)]\n",
        "    if(len(pred_list)>0):\n",
        "        return 1,pred_list\n",
        "    else:\n",
        "        return 0,[]\n",
        "def sec_predict(symptoms_exp):\n",
        "    df = pd.read_csv('/content/Training.csv')\n",
        "    X = df.iloc[:, :-1]\n",
        "    y = df['prognosis']\n",
        "    X_train, X_test, y_train, y_test = train_test_split(X, y, test_size=0.3, random_state=20)\n",
        "    rf_clf = DecisionTreeClassifier()\n",
        "    rf_clf.fit(X_train, y_train)\n",
        "\n",
        "    symptoms_dict = {symptom: index for index, symptom in enumerate(X)}\n",
        "    input_vector = np.zeros(len(symptoms_dict))\n",
        "    for item in symptoms_exp:\n",
        "      input_vector[[symptoms_dict[item]]] = 1\n",
        "\n",
        "    return rf_clf.predict([input_vector])"
      ],
      "metadata": {
        "id": "xf6yXu7AkkMA"
      },
      "execution_count": 27,
      "outputs": []
    },
    {
      "cell_type": "code",
      "source": [
        "def print_disease(node):\n",
        "    node = node[0]\n",
        "    val  = node.nonzero()\n",
        "    disease = le.inverse_transform(val[0])\n",
        "    return list(map(lambda x:x.strip(),list(disease)))\n"
      ],
      "metadata": {
        "id": "6rUzVCdVkoon"
      },
      "execution_count": 25,
      "outputs": []
    },
    {
      "cell_type": "code",
      "source": [
        "def tree_to_code(tree, feature_names):\n",
        "    tree_ = tree.tree_\n",
        "    feature_name = [\n",
        "        feature_names[i] if i != _tree.TREE_UNDEFINED else \"undefined!\"\n",
        "        for i in tree_.feature\n",
        "    ]\n",
        "\n",
        "    chk_dis=\",\".join(feature_names).split(\",\")\n",
        "    symptoms_present = []\n",
        "\n",
        "    while True:\n",
        "\n",
        "        print(\"\\nEnter the symptom you are experiencing  \\t\\t\",end=\"->\")\n",
        "        disease_input = input(\"\")\n",
        "        conf,cnf_dis=check_pattern(chk_dis,disease_input)\n",
        "        if conf==1:\n",
        "            print(\"searches related to input: \")\n",
        "            for num,it in enumerate(cnf_dis):\n",
        "                print(num,\")\",it)\n",
        "            if num!=0:\n",
        "                print(f\"Select the one you meant (0 - {num}):  \", end=\"\")\n",
        "                conf_inp = int(input(\"\"))\n",
        "            else:\n",
        "                conf_inp=0\n",
        "\n",
        "            disease_input=cnf_dis[conf_inp]\n",
        "            break\n",
        "            # print(\"Did you mean: \",cnf_dis,\"?(yes/no) :\",end=\"\")\n",
        "            # conf_inp = input(\"\")\n",
        "            # if(conf_inp==\"yes\"):\n",
        "            #     break\n",
        "        else:\n",
        "            print(\"Enter valid symptom.\")\n",
        "\n",
        "    while True:\n",
        "        try:\n",
        "            num_days=int(input(\"Okay. From how many days ? : \"))\n",
        "            break\n",
        "        except:\n",
        "            print(\"Enter valid input.\")\n",
        "    def recurse(node, depth):\n",
        "        indent = \"  \" * depth\n",
        "        if tree_.feature[node] != _tree.TREE_UNDEFINED:\n",
        "            name = feature_name[node]\n",
        "            threshold = tree_.threshold[node]\n",
        "\n",
        "            if name == disease_input:\n",
        "                val = 1\n",
        "            else:\n",
        "                val = 0\n",
        "            if  val <= threshold:\n",
        "                recurse(tree_.children_left[node], depth + 1)\n",
        "            else:\n",
        "                symptoms_present.append(name)\n",
        "                recurse(tree_.children_right[node], depth + 1)\n",
        "        else:\n",
        "            present_disease = print_disease(tree_.value[node])\n",
        "            # print( \"You may have \" +  present_disease )\n",
        "            red_cols = reduced_data.columns\n",
        "            symptoms_given = red_cols[reduced_data.loc[present_disease].values[0].nonzero()]\n",
        "            # dis_list=list(symptoms_present)\n",
        "            # if len(dis_list)!=0:\n",
        "            #     print(\"symptoms present  \" + str(list(symptoms_present)))\n",
        "            # print(\"symptoms given \"  +  str(list(symptoms_given)) )\n",
        "            print(\"Are you experiencing any \")\n",
        "            symptoms_exp=[]\n",
        "            for syms in list(symptoms_given):\n",
        "                inp=\"\"\n",
        "                print(syms,\"? : \",end='')\n",
        "                while True:\n",
        "                    inp=input(\"\")\n",
        "                    if(inp==\"yes\" or inp==\"no\"):\n",
        "                        break\n",
        "                    else:\n",
        "                        print(\"provide proper answers i.e. (yes/no) : \",end=\"\")\n",
        "                if(inp==\"yes\"):\n",
        "                    symptoms_exp.append(syms)\n",
        "\n",
        "            second_prediction=sec_predict(symptoms_exp)\n",
        "            # print(second_prediction)\n",
        "            calc_condition(symptoms_exp,num_days)\n",
        "            if(present_disease[0]==second_prediction[0]):\n",
        "                print(\"You may have \", present_disease[0])\n",
        "                print(description_list[present_disease[0]])\n",
        "\n",
        "                # readn(f\"You may have {present_disease[0]}\")\n",
        "                # readn(f\"{description_list[present_disease[0]]}\")\n",
        "\n",
        "            else:\n",
        "                print(\"You may have \", present_disease[0], \"or \", second_prediction[0])\n",
        "                print(description_list[present_disease[0]])\n",
        "                print(description_list[second_prediction[0]])\n",
        "\n",
        "            # print(description_list[present_disease[0]])\n",
        "            precution_list=precautionDictionary[present_disease[0]]\n",
        "            print(\"Take following measures : \")\n",
        "            for  i,j in enumerate(precution_list):\n",
        "                print(i+1,\")\",j)\n",
        "\n",
        "            # confidence_level = (1.0*len(symptoms_present))/len(symptoms_given)\n",
        "            # print(\"confidence level is \" + str(confidence_level))\n",
        "\n",
        "    recurse(0, 1)\n",
        "getSeverityDict()\n",
        "getDescription()\n",
        "getprecautionDict()\n",
        "getInfo()\n",
        "tree_to_code(clf,cols)\n",
        "print(\"----------------------------------------------------------------------------------------\")"
      ],
      "metadata": {
        "colab": {
          "base_uri": "https://localhost:8080/"
        },
        "id": "LqAnymt3nLLJ",
        "outputId": "d22d4f61-3ff5-4cca-acec-275ebbd0b6ad"
      },
      "execution_count": 28,
      "outputs": [
        {
          "output_type": "stream",
          "name": "stdout",
          "text": [
            "-----------------------------------HealthCare ChatBot-----------------------------------\n",
            "\n",
            "Your Name? \t\t\t\t->pabi\n",
            "Hello,  pabi\n",
            "\n",
            "Enter the symptom you are experiencing  \t\t->fever\n",
            "searches related to input: \n",
            "0 ) high_fever\n",
            "1 ) mild_fever\n",
            "Select the one you meant (0 - 1):  1\n",
            "Okay. From how many days ? : 1\n",
            "Are you experiencing any \n",
            "joint_pain ? : no\n",
            "vomiting ? : no\n",
            "yellowish_skin ? : no\n",
            "dark_urine ? : no\n",
            "nausea ? : no\n",
            "loss_of_appetite ? : no\n",
            "abdominal_pain ? : no\n",
            "diarrhoea ? : no\n",
            "mild_fever ? : yes\n",
            "yellowing_of_eyes ? : no\n",
            "muscle_pain ? : no\n",
            "It might not be that bad but you should take precautions.\n",
            "You may have  hepatitis A or  Chicken pox\n",
            "Hepatitis A is a highly contagious liver infection caused by the hepatitis A virus. The virus is one of several types of hepatitis viruses that cause inflammation and affect your liver's ability to function.\n",
            "Chickenpox is a highly contagious disease caused by the varicella-zoster virus (VZV). It can cause an itchy, blister-like rash. The rash first appears on the chest, back, and face, and then spreads over the entire body, causing between 250 and 500 itchy blisters.\n",
            "Take following measures : \n",
            "1 ) Consult nearest hospital\n",
            "2 ) wash hands through\n",
            "3 ) avoid fatty spicy food\n",
            "4 ) medication\n",
            "----------------------------------------------------------------------------------------\n"
          ]
        },
        {
          "output_type": "stream",
          "name": "stderr",
          "text": [
            "/usr/local/lib/python3.10/dist-packages/sklearn/base.py:439: UserWarning: X does not have valid feature names, but DecisionTreeClassifier was fitted with feature names\n",
            "  warnings.warn(\n"
          ]
        }
      ]
    }
  ]
}